{
 "cells": [
  {
   "cell_type": "markdown",
   "metadata": {
    "colab_type": "text",
    "id": "C1vK7BsH_D0w"
   },
   "source": [
    "Starter notebook including data loading and model evaluation cells. Copy it to start a new data augmentation experiment."
   ]
  },
  {
   "cell_type": "markdown",
   "metadata": {
    "colab_type": "text",
    "id": "KGni9H3sC4tc"
   },
   "source": [
    "### Set up the working directory"
   ]
  },
  {
   "cell_type": "code",
   "execution_count": 10,
   "metadata": {
    "colab": {
     "base_uri": "https://localhost:8080/",
     "height": 34
    },
    "colab_type": "code",
    "executionInfo": {
     "elapsed": 370,
     "status": "ok",
     "timestamp": 1588223790291,
     "user": {
      "displayName": "Carly de Frondeville",
      "photoUrl": "https://lh3.googleusercontent.com/a-/AOh14Gj2TXWxXYVUtSrjH1ejiilzQmhENw_L1aY3_CS-=s64",
      "userId": "15515268849114158803"
     },
     "user_tz": 420
    },
    "id": "ZgBtPifiCakp",
    "outputId": "3fd1d2b4-e288-4d0f-cc60-9fe959b78f36"
   },
   "outputs": [
    {
     "name": "stdout",
     "output_type": "stream",
     "text": [
      "/home/seanvernon/cs182\n"
     ]
    }
   ],
   "source": [
    "root_folder = '/home/seanvernon/cs182/'\n",
    "import sys\n",
    "sys.path.insert(0, root_folder)\n",
    "%cd $root_folder"
   ]
  },
  {
   "cell_type": "markdown",
   "metadata": {
    "colab_type": "text",
    "id": "Zcft5T30C8wm"
   },
   "source": [
    "### Load the data"
   ]
  },
  {
   "cell_type": "code",
   "execution_count": 3,
   "metadata": {
    "colab": {},
    "colab_type": "code",
    "id": "olm25O0St7jK"
   },
   "outputs": [],
   "source": [
    "import pathlib\n",
    "import os\n",
    "import json\n",
    "import numpy as np\n",
    "import torch\n",
    "import torchvision\n",
    "import torchvision.transforms as transforms\n",
    "\n",
    "# TODO: add any imports you use here\n",
    "\n",
    "from torch import nn\n",
    "\n",
    "from utils.train_model import train_model, plot_stats"
   ]
  },
  {
   "cell_type": "code",
   "execution_count": 4,
   "metadata": {
    "colab": {},
    "colab_type": "code",
    "id": "adakYAfpqvx8"
   },
   "outputs": [],
   "source": [
    "# Create a pytorch dataset\n",
    "data_dir = pathlib.Path('./data/tiny-imagenet-200')\n",
    "CLASS_NAMES = np.array([item.name for item in (data_dir / 'train').glob('*') if os.path.isdir(item.__str__())])"
   ]
  },
  {
   "cell_type": "code",
   "execution_count": 5,
   "metadata": {
    "colab": {},
    "colab_type": "code",
    "id": "cfOyQAJTyeRA"
   },
   "outputs": [],
   "source": [
    "# Create the training data generator\n",
    "batch_size = 128\n",
    "im_height = 64  # 56\n",
    "im_width = 64  # 56\n",
    "num_epochs = 1"
   ]
  },
  {
   "cell_type": "code",
   "execution_count": 6,
   "metadata": {
    "colab": {
     "base_uri": "https://localhost:8080/",
     "height": 395
    },
    "colab_type": "code",
    "executionInfo": {
     "elapsed": 363654,
     "status": "error",
     "timestamp": 1588224514707,
     "user": {
      "displayName": "Carly de Frondeville",
      "photoUrl": "https://lh3.googleusercontent.com/a-/AOh14Gj2TXWxXYVUtSrjH1ejiilzQmhENw_L1aY3_CS-=s64",
      "userId": "15515268849114158803"
     },
     "user_tz": 420
    },
    "id": "u98MhFwQsqbO",
    "outputId": "bc9ec1d2-3c01-4fbc-ce45-1c792f801c9d"
   },
   "outputs": [
    {
     "name": "stdout",
     "output_type": "stream",
     "text": [
      "Training set size:  100000\n",
      "Validation set size:  10000\n"
     ]
    }
   ],
   "source": [
    "data_transforms = {x: transforms.Compose([\n",
    "                          transforms.Resize((224, 224)),\n",
    "                          transforms.ToTensor(),\n",
    "                          transforms.Normalize(mean=[0.485, 0.456, 0.406], std=[0.229, 0.224, 0.225])])\n",
    "                      for x in ['train', 'val']}\n",
    "datasets = {x: torchvision.datasets.ImageFolder(data_dir / x, data_transforms[x]) for x in ['train', 'val']}\n",
    "dataloaders = {x: torch.utils.data.DataLoader(datasets[x], batch_size=batch_size, shuffle=True, num_workers=4, pin_memory=True) for x in ['train', 'val']}\n",
    "\n",
    "print(\"Training set size: \", len(datasets['train']))\n",
    "print(\"Validation set size: \", len(datasets['val']))"
   ]
  },
  {
   "cell_type": "markdown",
   "metadata": {
    "colab_type": "text",
    "id": "wAypi3eQwXlC"
   },
   "source": [
    "### Baseline model\n",
    "We create the baseline model by fine-tuning final fully-connected layers of ResNet pre-trained on ImageNet, without any data augmentation techniques."
   ]
  },
  {
   "cell_type": "code",
   "execution_count": 7,
   "metadata": {
    "colab": {},
    "colab_type": "code",
    "id": "zxwGh0bsIuCW"
   },
   "outputs": [],
   "source": [
    "from torchvision.models import resnet18"
   ]
  },
  {
   "cell_type": "code",
   "execution_count": 8,
   "metadata": {
    "colab": {},
    "colab_type": "code",
    "id": "L8g0OiEQt-Ge"
   },
   "outputs": [],
   "source": [
    "class Net(nn.Module):\n",
    "    def __init__(self, num_classes):\n",
    "        super(Net, self).__init__()\n",
    "        self.model = resnet18(pretrained=True)\n",
    "        for param in self.model.parameters():\n",
    "            param.requires_grad = False\n",
    "        self.model.fc = nn.Linear(512, num_classes)\n",
    "    \n",
    "    def forward(self, x):\n",
    "        return self.model.forward(x)"
   ]
  },
  {
   "cell_type": "code",
   "execution_count": 12,
   "metadata": {
    "colab": {},
    "colab_type": "code",
    "id": "d3KprigGgv4I",
    "scrolled": false
   },
   "outputs": [
    {
     "name": "stdout",
     "output_type": "stream",
     "text": [
      "Epoch 0/19\n",
      "----------\n",
      "train Loss: 2.5597 Acc: 0.4508\n",
      "val Loss: 1.8667 Acc: 0.5401\n",
      "\n",
      "Epoch 1/19\n",
      "----------\n",
      "train Loss: 1.7275 Acc: 0.5776\n",
      "val Loss: 1.7109 Acc: 0.5737\n",
      "\n",
      "Epoch 2/19\n",
      "----------\n",
      "train Loss: 1.5945 Acc: 0.6011\n",
      "val Loss: 1.6686 Acc: 0.5813\n",
      "\n",
      "Epoch 3/19\n",
      "----------\n",
      "train Loss: 1.5276 Acc: 0.6150\n",
      "val Loss: 1.6556 Acc: 0.5849\n",
      "\n",
      "Epoch 4/19\n",
      "----------\n",
      "train Loss: 1.4811 Acc: 0.6251\n",
      "val Loss: 1.6805 Acc: 0.5855\n",
      "\n",
      "Epoch 5/19\n",
      "----------\n",
      "train Loss: 1.4459 Acc: 0.6326\n",
      "val Loss: 1.6831 Acc: 0.5848\n",
      "\n",
      "Epoch 6/19\n",
      "----------\n",
      "train Loss: 1.4200 Acc: 0.6373\n",
      "val Loss: 1.6772 Acc: 0.5828\n",
      "\n",
      "Epoch 7/19\n",
      "----------\n",
      "train Loss: 1.3959 Acc: 0.6425\n",
      "val Loss: 1.7022 Acc: 0.5741\n",
      "\n",
      "Epoch 8/19\n",
      "----------\n",
      "train Loss: 1.3789 Acc: 0.6472\n",
      "val Loss: 1.6803 Acc: 0.5866\n",
      "\n",
      "Epoch 9/19\n",
      "----------\n",
      "train Loss: 1.3620 Acc: 0.6509\n",
      "val Loss: 1.7074 Acc: 0.5793\n",
      "\n",
      "Epoch 10/19\n",
      "----------\n",
      "train Loss: 1.3481 Acc: 0.6536\n",
      "val Loss: 1.7083 Acc: 0.5843\n",
      "\n",
      "Epoch 11/19\n",
      "----------\n",
      "train Loss: 1.3341 Acc: 0.6565\n",
      "val Loss: 1.7017 Acc: 0.5856\n",
      "\n",
      "Epoch 12/19\n",
      "----------\n",
      "train Loss: 1.3225 Acc: 0.6592\n",
      "val Loss: 1.7218 Acc: 0.5836\n",
      "\n",
      "Epoch 13/19\n",
      "----------\n",
      "train Loss: 1.3136 Acc: 0.6605\n",
      "val Loss: 1.7346 Acc: 0.5793\n",
      "\n",
      "Epoch 14/19\n",
      "----------\n",
      "train Loss: 1.3035 Acc: 0.6639\n",
      "val Loss: 1.7254 Acc: 0.5822\n",
      "\n",
      "Epoch 15/19\n",
      "----------\n",
      "train Loss: 1.2913 Acc: 0.6648\n",
      "val Loss: 1.7497 Acc: 0.5745\n",
      "\n",
      "Epoch 16/19\n",
      "----------\n",
      "train Loss: 1.2808 Acc: 0.6679\n",
      "val Loss: 1.7522 Acc: 0.5777\n",
      "\n",
      "Epoch 17/19\n",
      "----------\n",
      "train Loss: 1.2769 Acc: 0.6668\n",
      "val Loss: 1.7521 Acc: 0.5842\n",
      "\n",
      "Epoch 18/19\n",
      "----------\n",
      "train Loss: 1.2687 Acc: 0.6698\n",
      "val Loss: 1.7476 Acc: 0.5808\n",
      "\n",
      "Epoch 19/19\n",
      "----------\n",
      "train Loss: 1.2599 Acc: 0.6720\n",
      "val Loss: 1.7579 Acc: 0.5816\n",
      "\n",
      "training complete in 29m 11s\n",
      "Best val Acc: 0.586600\n"
     ]
    }
   ],
   "source": [
    "# Create a model\n",
    "# TODO: import model used here\n",
    "model_file = root_folder+'models/baseline_test.pt'  # Change the name to reflect augmentation method\n",
    "model = Net(len(CLASS_NAMES))\n",
    "params_to_update = [param for param in model.parameters() if param.requires_grad]\n",
    "optim = torch.optim.Adam(params_to_update)\n",
    "criterion = nn.CrossEntropyLoss()\n",
    "model, stats = train_model(model, dataloaders, criterion, optim, model_file, 20, mode='train')"
   ]
  },
  {
   "cell_type": "markdown",
   "metadata": {
    "colab_type": "text",
    "id": "rZQ4DIREsHDl"
   },
   "source": [
    "### Evaluate the model"
   ]
  },
  {
   "cell_type": "code",
   "execution_count": 13,
   "metadata": {
    "colab": {
     "base_uri": "https://localhost:8080/",
     "height": 1000
    },
    "colab_type": "code",
    "executionInfo": {
     "elapsed": 1173,
     "status": "ok",
     "timestamp": 1587413882288,
     "user": {
      "displayName": "Pawel Sendyk",
      "photoUrl": "https://lh3.googleusercontent.com/a-/AOh14GgOvttqxwebIAsPc_2R_1shhvCzBCVda_V4IYhiHw=s64",
      "userId": "10879408316997059109"
     },
     "user_tz": 420
    },
    "id": "-X30-ntc2CkZ",
    "outputId": "87facef1-e070-401d-e568-3a0fa27245c7"
   },
   "outputs": [
    {
     "data": {
      "image/png": "[encoded data removed]",
      "text/plain": [
       "<Figure size 576x432 with 1 Axes>"
      ]
     },
     "metadata": {
      "needs_background": "light"
     },
     "output_type": "display_data"
    },
    {
     "data": {
      "image/png": "[encoded data removed]",
      "text/plain": [
       "<Figure size 576x432 with 1 Axes>"
      ]
     },
     "metadata": {
      "needs_background": "light"
     },
     "output_type": "display_data"
    }
   ],
   "source": [
    "train_acc, train_loss, val_acc, val_loss = stats \n",
    "plot_stats(train_acc, train_loss, val_acc, val_loss)"
   ]
  },
  {
   "cell_type": "code",
   "execution_count": 14,
   "metadata": {
    "colab": {},
    "colab_type": "code",
    "id": "11g-_KtR0TDO"
   },
   "outputs": [],
   "source": [
    "model_file = root_folder+'models/baseline_test.pt'\n",
    "torch.save(model.state_dict(), model_file)"
   ]
  },
  {
   "cell_type": "code",
   "execution_count": null,
   "metadata": {},
   "outputs": [],
   "source": []
  }
 ],
 "metadata": {
  "accelerator": "GPU",
  "colab": {
   "collapsed_sections": [],
   "name": "Baseline.ipynb",
   "provenance": []
  },
  "kernelspec": {
   "display_name": "Python 3",
   "language": "python",
   "name": "python3"
  },
  "language_info": {
   "codemirror_mode": {
    "name": "ipython",
    "version": 3
   },
   "file_extension": ".py",
   "mimetype": "text/x-python",
   "name": "python",
   "nbconvert_exporter": "python",
   "pygments_lexer": "ipython3",
   "version": "3.7.4"
  }
 },
 "nbformat": 4,
 "nbformat_minor": 1
}

{
 "cells": [
  {
   "cell_type": "code",
   "execution_count": 1,
   "metadata": {
    "colab": {},
    "colab_type": "code",
    "id": "V6a4P_NvCwkt"
   },
   "outputs": [],
   "source": [
    "%load_ext autoreload\n",
    "%autoreload 2"
   ]
  },
  {
   "cell_type": "markdown",
   "metadata": {},
   "source": [
    "### Evaluation methodology\n",
    "To evaluate our model's robustness to adversarial attacks, we'll perform black-box attacks on it using gra. We hope to use the transferability properties and make our model less prone to black-box attacks.  \n",
    "- adversarial objective function based on the fast gradient sign method regularization\n",
    "- adversarial training: injecting adversarial examples in training"
   ]
  },
  {
   "cell_type": "markdown",
   "metadata": {
    "colab_type": "text",
    "id": "Zcft5T30C8wm"
   },
   "source": [
    "### Load the data"
   ]
  },
  {
   "cell_type": "code",
   "execution_count": 2,
   "metadata": {
    "colab": {},
    "colab_type": "code",
    "id": "olm25O0St7jK"
   },
   "outputs": [],
   "source": [
    "import pathlib\n",
    "import numpy as np\n",
    "import torch\n",
    "import torchvision\n",
    "import torchvision.transforms as transforms\n",
    "import PIL\n",
    "import os\n",
    "\n",
    "# TODO: add any imports you use here\n",
    "\n",
    "from torch import nn\n",
    "\n",
    "from utils.train_model import train_model, plot_stats"
   ]
  },
  {
   "cell_type": "code",
   "execution_count": 3,
   "metadata": {
    "colab": {},
    "colab_type": "code",
    "id": "adakYAfpqvx8"
   },
   "outputs": [],
   "source": [
    "# Create a pytorch dataset\n",
    "data_dir = pathlib.Path('data/tiny-imagenet-200')\n",
    "CLASS_NAMES = np.array([item.name for item in (data_dir / 'train').glob('*') if os.path.isdir(item.__str__())])"
   ]
  },
  {
   "cell_type": "markdown",
   "metadata": {
    "colab_type": "text",
    "id": "bnTXVNn9yVCi"
   },
   "source": [
    "### Data Augmentation"
   ]
  },
  {
   "cell_type": "code",
   "execution_count": 4,
   "metadata": {
    "colab": {},
    "colab_type": "code",
    "id": "uGbnUIsZyg4K"
   },
   "outputs": [],
   "source": [
    "# TODO: Add more tranforms\n",
    "# E.g. Crop random 56x56 patches\n",
    "# Add more transforms relevant to our augmentation technique\n",
    "# https://pytorch.org/docs/stable/torchvision/transforms.html\n",
    "\n",
    "transforms_to_compose = [transforms.Resize((224, 224)),\n",
    "                         transforms.ToTensor(),\n",
    "                         transforms.Normalize(mean=[0.485, 0.456, 0.406], std=[0.229, 0.224, 0.225])]"
   ]
  },
  {
   "cell_type": "code",
   "execution_count": 5,
   "metadata": {
    "colab": {
     "base_uri": "https://localhost:8080/",
     "height": 51
    },
    "colab_type": "code",
    "executionInfo": {
     "elapsed": 942695,
     "status": "ok",
     "timestamp": 1588374297628,
     "user": {
      "displayName": "Carly de Frondeville",
      "photoUrl": "https://lh3.googleusercontent.com/a-/AOh14Gj2TXWxXYVUtSrjH1ejiilzQmhENw_L1aY3_CS-=s64",
      "userId": "15515268849114158803"
     },
     "user_tz": 420
    },
    "id": "u98MhFwQsqbO",
    "outputId": "beafe8c4-6054-4dea-dd16-98dc37406877"
   },
   "outputs": [
    {
     "name": "stdout",
     "output_type": "stream",
     "text": [
      "Training set size:  100000\n",
      "Validation set size:  10000\n"
     ]
    }
   ],
   "source": [
    "# Create the training data generator\n",
    "batch_size = 32\n",
    "data_transforms = {x: transforms.Compose(transforms_to_compose) for x in ['train', 'val']}\n",
    "datasets = {x: torchvision.datasets.ImageFolder(data_dir / x, data_transforms[x]) for x in ['train', 'val']}\n",
    "dataloaders = {x: torch.utils.data.DataLoader(datasets[x], batch_size=batch_size, shuffle=True, num_workers=4, pin_memory=True) for x in ['train', 'val']}\n",
    "\n",
    "print(\"Training set size: \", len(datasets['train']))\n",
    "print(\"Validation set size: \", len(datasets['val']))"
   ]
  },
  {
   "cell_type": "markdown",
   "metadata": {
    "colab_type": "text",
    "id": "wAypi3eQwXlC"
   },
   "source": [
    "### Create the model and train\n",
    "First, we need to establish a baseline error that our model makes without adversarial training. Per transferability, we should be able to fool our net with data trained on a different architecture. "
   ]
  },
  {
   "cell_type": "code",
   "execution_count": 6,
   "metadata": {
    "colab": {},
    "colab_type": "code",
    "id": "L8g0OiEQt-Ge"
   },
   "outputs": [],
   "source": [
    "from torchvision.models import resnet18\n",
    "\n",
    "class TargetNet(nn.Module):\n",
    "    def __init__(self, num_classes):\n",
    "        super(TargetNet, self).__init__()\n",
    "        self.model = resnet18(pretrained=True)\n",
    "        for param in self.model.parameters():\n",
    "            param.requires_grad = False\n",
    "        self.model.fc = nn.Linear(512, num_classes)\n",
    "    \n",
    "    def forward(self, x):\n",
    "        return self.model.forward(x)"
   ]
  },
  {
   "cell_type": "code",
   "execution_count": 7,
   "metadata": {},
   "outputs": [],
   "source": [
    "from torchvision.models import densenet121\n",
    "\n",
    "class SourceNet(nn.Module):\n",
    "    def __init__(self, num_classes):\n",
    "        super(SourceNet, self).__init__()\n",
    "        self.model = densenet121(pretrained=True)\n",
    "        for param in self.model.parameters():\n",
    "            param.requires_grad = False\n",
    "        self.model.classifier = nn.Linear(1024, num_classes)\n",
    "    \n",
    "    def forward(self, x):\n",
    "        return self.model.forward(x)"
   ]
  },
  {
   "cell_type": "code",
   "execution_count": 8,
   "metadata": {},
   "outputs": [
    {
     "data": {
      "text/plain": [
       "<All keys matched successfully>"
      ]
     },
     "execution_count": 8,
     "metadata": {},
     "output_type": "execute_result"
    }
   ],
   "source": [
    "target_net = TargetNet(len(CLASS_NAMES))\n",
    "target_net.load_state_dict(torch.load('models/baseline.pt'))"
   ]
  },
  {
   "cell_type": "code",
   "execution_count": 9,
   "metadata": {},
   "outputs": [],
   "source": [
    "# Model has already been trained so no need to re-run\n",
    "# source_net = SourceNet(len(CLASS_NAMES))\n",
    "# source_params_to_update = [param for param in source_net.parameters() if param.requires_grad]\n",
    "# source_optim = torch.optim.Adam(source_params_to_update)\n",
    "# source_criterion = nn.CrossEntropyLoss()"
   ]
  },
  {
   "cell_type": "code",
   "execution_count": 10,
   "metadata": {},
   "outputs": [],
   "source": [
    "# source_net, source_stats = train_model(source_net, dataloaders, source_criterion, source_optim, 'models/adv-source-plain.pt', 5)"
   ]
  },
  {
   "cell_type": "code",
   "execution_count": 11,
   "metadata": {},
   "outputs": [
    {
     "data": {
      "text/plain": [
       "<All keys matched successfully>"
      ]
     },
     "execution_count": 11,
     "metadata": {},
     "output_type": "execute_result"
    }
   ],
   "source": [
    "source_net = SourceNet(len(CLASS_NAMES))\n",
    "source_net.load_state_dict(torch.load('models/adv-source-plain.pt'))"
   ]
  },
  {
   "cell_type": "code",
   "execution_count": 12,
   "metadata": {},
   "outputs": [],
   "source": [
    "def fgsm(img, eps, data_grad):\n",
    "    sign_data_grad = data_grad.sign()\n",
    "    perturbed_img = img + eps*sign_data_grad\n",
    "    return perturbed_img"
   ]
  },
  {
   "cell_type": "code",
   "execution_count": 13,
   "metadata": {},
   "outputs": [],
   "source": [
    "import torch.nn.functional as F\n",
    "\n",
    "def test_attack(target_model, source_model, val_data, epsilon=0.2, attack=fgsm):\n",
    "    device = torch.device(\"cuda:0\" if torch.cuda.is_available() else \"cpu\")\n",
    "    criterion_class = nn.CrossEntropyLoss()\n",
    "    target_model = target_model.to(device)\n",
    "    source_model = source_model.to(device)\n",
    "    running_corrects = 0.0\n",
    "    for inputs, labels in val_data:\n",
    "        source_model.zero_grad()\n",
    "        target_model.zero_grad()\n",
    "        inputs = inputs.to(device)\n",
    "        labels = labels.to(device)\n",
    "        inputs.requires_grad = True\n",
    "        target_outputs = target_model(inputs)\n",
    "        _, initial_preds = torch.max(target_outputs, 1)\n",
    "        # calculate gradient on source network\n",
    "        source_outputs = source_model(inputs)\n",
    "        loss = F.nll_loss(source_outputs, labels)\n",
    "        loss.backward()\n",
    "        data_grad = inputs.grad.data\n",
    "        # add perturbation to data\n",
    "        inputs_adv = attack(inputs, epsilon, data_grad)\n",
    "        # get predictions from target network\n",
    "        target_outputs = target_model(inputs_adv)\n",
    "        _, final_preds = torch.max(target_outputs, 1)\n",
    "        running_corrects += torch.sum(final_preds == labels.data)\n",
    "        # get some examples to inspect\n",
    "        # print(torch.cuda.memory_allocated(\"cuda:0\"))\n",
    "    acc = running_corrects.double() / len(val_data.dataset)\n",
    "    return acc"
   ]
  },
  {
   "cell_type": "code",
   "execution_count": 14,
   "metadata": {},
   "outputs": [],
   "source": [
    "eps_vals = np.arange(0, 0.5, 0.1)"
   ]
  },
  {
   "cell_type": "code",
   "execution_count": 15,
   "metadata": {
    "scrolled": true
   },
   "outputs": [],
   "source": [
    "acc_plain = []\n",
    "for eps in eps_vals:\n",
    "    acc_plain.append(test_attack(target_net, source_net, dataloaders['val'], epsilon=eps))"
   ]
  },
  {
   "cell_type": "code",
   "execution_count": 16,
   "metadata": {},
   "outputs": [
    {
     "data": {
      "image/png": "[encoded data removed]",
      "text/plain": [
       "<Figure size 576x432 with 1 Axes>"
      ]
     },
     "metadata": {
      "needs_background": "light"
     },
     "output_type": "display_data"
    }
   ],
   "source": [
    "import matplotlib.pyplot as plt\n",
    "\n",
    "plt.figure(figsize=(8, 6))\n",
    "plt.plot(eps_vals, np.array(acc_plain))\n",
    "plt.xlabel('epsilon')\n",
    "plt.ylabel('val accuracy')\n",
    "plt.show()"
   ]
  },
  {
   "cell_type": "code",
   "execution_count": 18,
   "metadata": {},
   "outputs": [
    {
     "data": {
      "text/plain": [
       "[tensor(0.5497, device='cuda:0', dtype=torch.float64),\n",
       " tensor(0.2991, device='cuda:0', dtype=torch.float64),\n",
       " tensor(0.2606, device='cuda:0', dtype=torch.float64),\n",
       " tensor(0.2360, device='cuda:0', dtype=torch.float64),\n",
       " tensor(0.2100, device='cuda:0', dtype=torch.float64)]"
      ]
     },
     "execution_count": 18,
     "metadata": {},
     "output_type": "execute_result"
    }
   ],
   "source": [
    "acc_plain"
   ]
  },
  {
   "cell_type": "markdown",
   "metadata": {
    "colab_type": "text",
    "id": "TfbMM80LwZwz"
   },
   "source": [
    "### Adversarial Objective Function\n",
    "We change the objective function as explained in [EXPLAINING AND HARNESSING\n",
    "ADVERSARIAL EXAMPLES](https://arxiv.org/pdf/1412.6572.pdf)."
   ]
  },
  {
   "cell_type": "code",
   "execution_count": 17,
   "metadata": {},
   "outputs": [],
   "source": [
    "import torch.nn.functional as F\n",
    "import time\n",
    "import copy\n",
    "\n",
    "def train_model_adv_obj(model, dataloaders, criterion, optimizer, model_file, alpha=0.5, epsilon=0.2, num_epochs=10):\n",
    "    \"\"\"\n",
    "    Modified version of https://pytorch.org/tutorials/beginner/finetuning_torchvision_models_tutorial.html\n",
    "    \"\"\"\n",
    "    since = time.time()\n",
    "\n",
    "    device = torch.device(\"cuda:0\" if torch.cuda.is_available() else \"cpu\")\n",
    "    model = model.to(device)\n",
    "    \n",
    "    train_acc_history = []\n",
    "    train_loss_history = []\n",
    "    val_acc_history = []\n",
    "    val_loss_history = []\n",
    "\n",
    "    best_model_wts = copy.deepcopy(model.state_dict())\n",
    "    best_acc = 0.0\n",
    "\n",
    "    for epoch in range(num_epochs):\n",
    "        print('Epoch {}/{}'.format(epoch, num_epochs - 1))\n",
    "        print('-' * 10)\n",
    "\n",
    "        for phase in ['train', 'val']:\n",
    "            if phase == 'train':\n",
    "                model.train()  # Set model to training mode\n",
    "            else:\n",
    "                model.eval()   # Set model to evaluate mode\n",
    "\n",
    "            running_loss = 0.0\n",
    "            running_corrects = 0\n",
    "\n",
    "            for inputs, labels in dataloaders[phase]:\n",
    "                inputs = inputs.to(device)\n",
    "                labels = labels.to(device)\n",
    "                inputs.requires_grad = True\n",
    "                \n",
    "                # zero gradient before calculating inputs grad\n",
    "                model.zero_grad()\n",
    "                \n",
    "                outputs = model(inputs)\n",
    "                loss = F.nll_loss(outputs, labels)\n",
    "                loss.backward(retain_graph=True)\n",
    "                \n",
    "                data_grad = inputs.grad.data\n",
    "                inputs_adv = fgsm(inputs, epsilon, data_grad)\n",
    "                outputs_adv = model(inputs_adv)\n",
    "                \n",
    "                # zero gradient before optmizing\n",
    "                optimizer.zero_grad()\n",
    "                \n",
    "                total_loss = alpha * criterion(outputs, labels) + (1 - alpha) * criterion(outputs_adv, labels)\n",
    "                _, preds = torch.max(outputs, 1)\n",
    "\n",
    "                if phase == 'train':\n",
    "                    total_loss.backward()\n",
    "                    optimizer.step()\n",
    "\n",
    "                running_loss += total_loss.item() * inputs.size(0)\n",
    "                running_corrects += torch.sum(preds == labels.data)\n",
    "\n",
    "            epoch_loss = running_loss / len(dataloaders[phase].dataset)\n",
    "            epoch_acc = running_corrects.double() / len(dataloaders[phase].dataset)\n",
    "\n",
    "            print('{} Loss: {:.4f} Acc: {:.4f}'.format(phase, epoch_loss, epoch_acc))\n",
    "\n",
    "            if phase == 'val' and epoch_acc > best_acc:\n",
    "                best_acc = epoch_acc\n",
    "                best_model_wts = copy.deepcopy(model.state_dict())\n",
    "            if phase == 'val':\n",
    "                val_acc_history.append(epoch_acc)\n",
    "                val_loss_history.append(epoch_loss)\n",
    "            else:\n",
    "                train_acc_history.append(epoch_acc)\n",
    "                train_loss_history.append(epoch_loss)\n",
    "\n",
    "        print()\n",
    "\n",
    "    time_elapsed = time.time() - since\n",
    "    print('Training complete in {:.0f}m {:.0f}s'.format(time_elapsed // 60, time_elapsed % 60))\n",
    "    print('Best val Acc: {:4f}'.format(best_acc))\n",
    "\n",
    "    # load and save best model weights\n",
    "    model.load_state_dict(best_model_wts)\n",
    "    torch.save(model.state_dict(), model_file)\n",
    "    \n",
    "    stats = (train_acc_history, train_loss_history, val_acc_history, val_loss_history)\n",
    "    return model, stats"
   ]
  },
  {
   "cell_type": "code",
   "execution_count": 22,
   "metadata": {},
   "outputs": [],
   "source": [
    "# target_net_adv_obj = TargetNet(len(CLASS_NAMES))\n",
    "# target_params_to_update = [param for param in target_net_adv_obj.parameters() if param.requires_grad]\n",
    "# target_optim = torch.optim.Adam(target_params_to_update)\n",
    "# target_criterion = nn.CrossEntropyLoss()"
   ]
  },
  {
   "cell_type": "code",
   "execution_count": 23,
   "metadata": {
    "collapsed": true
   },
   "outputs": [
    {
     "name": "stdout",
     "output_type": "stream",
     "text": [
      "Epoch 0/4\n",
      "----------\n",
      "train Loss: 4.1490 Acc: 0.4010\n",
      "val Loss: 4.1027 Acc: 0.2335\n",
      "\n",
      "Epoch 1/4\n",
      "----------\n",
      "train Loss: 3.8277 Acc: 0.4946\n",
      "val Loss: 4.1118 Acc: 0.2218\n",
      "\n",
      "Epoch 2/4\n",
      "----------\n",
      "train Loss: 3.7774 Acc: 0.5064\n",
      "val Loss: 4.0604 Acc: 0.2312\n",
      "\n",
      "Epoch 3/4\n",
      "----------\n",
      "train Loss: 3.7482 Acc: 0.5150\n",
      "val Loss: 4.0209 Acc: 0.2402\n",
      "\n",
      "Epoch 4/4\n",
      "----------\n",
      "train Loss: 3.7337 Acc: 0.5171\n",
      "val Loss: 3.9923 Acc: 0.2396\n",
      "\n",
      "Training complete in 159m 19s\n",
      "Best val Acc: 0.240200\n"
     ]
    }
   ],
   "source": [
    "# target_net_adv_obj, _ = train_model_adv_obj(target_net_adv_obj, dataloaders, target_criterion, target_optim, 'models/adv-target-adv-obj.pt', num_epochs=5)"
   ]
  },
  {
   "cell_type": "code",
   "execution_count": 19,
   "metadata": {},
   "outputs": [
    {
     "data": {
      "text/plain": [
       "<All keys matched successfully>"
      ]
     },
     "execution_count": 19,
     "metadata": {},
     "output_type": "execute_result"
    }
   ],
   "source": [
    "target_net_adv_obj = TargetNet(len(CLASS_NAMES))\n",
    "target_net_adv_obj.load_state_dict(torch.load('models/adv-target-adv-obj.pt'))"
   ]
  },
  {
   "cell_type": "code",
   "execution_count": 20,
   "metadata": {},
   "outputs": [],
   "source": [
    "acc_adv_obj = []\n",
    "for eps in eps_vals:\n",
    "    acc_adv_obj.append(test_attack(target_net_adv_obj, source_net, dataloaders['val'], epsilon=eps))"
   ]
  },
  {
   "cell_type": "code",
   "execution_count": 21,
   "metadata": {},
   "outputs": [
    {
     "data": {
      "image/png": "[encoded data removed]",
      "text/plain": [
       "<Figure size 576x432 with 1 Axes>"
      ]
     },
     "metadata": {
      "needs_background": "light"
     },
     "output_type": "display_data"
    }
   ],
   "source": [
    "import matplotlib.pyplot as plt\n",
    "\n",
    "plt.figure(figsize=(8, 6))\n",
    "plt.plot(eps_vals, np.array(acc_plain), label='Original')\n",
    "plt.plot(eps_vals, np.array(acc_adv_obj), label='Modified objective function')\n",
    "plt.xlabel('epsilon')\n",
    "plt.ylabel('val accuracy')\n",
    "plt.legend()\n",
    "plt.show()"
   ]
  },
  {
   "cell_type": "code",
   "execution_count": 31,
   "metadata": {},
   "outputs": [
    {
     "data": {
      "image/png": "[encoded data removed]",
      "text/plain": [
       "<Figure size 576x432 with 1 Axes>"
      ]
     },
     "metadata": {
      "needs_background": "light"
     },
     "output_type": "display_data"
    }
   ],
   "source": [
    "plt.figure(figsize=(8, 6))\n",
    "plt.plot(eps_vals, np.array(acc_adv_obj, dtype=np.float32) - np.array(acc_plain, dtype=np.float32))\n",
    "plt.xlabel('epsilon')\n",
    "plt.ylabel('change in val accuracy')\n",
    "plt.show()"
   ]
  },
  {
   "cell_type": "markdown",
   "metadata": {},
   "source": [
    "While we sacrifice some accuracy on original images, the accuracy on the adversarial examples improved by 5-10%. Epsilon is hyperparameter that scales added noise so a higher epsilon equals a stronger adversary."
   ]
  },
  {
   "cell_type": "markdown",
   "metadata": {},
   "source": [
    "### Train the model using gradients from multiple models"
   ]
  },
  {
   "cell_type": "markdown",
   "metadata": {},
   "source": [
    "### Train more parameters including convolutional layers."
   ]
  },
  {
   "cell_type": "code",
   "execution_count": 29,
   "metadata": {},
   "outputs": [],
   "source": [
    "class TargetNetConv(nn.Module):\n",
    "    def __init__(self, num_classes):\n",
    "        super(TargetNetConv, self).__init__()\n",
    "        self.model = resnet18(pretrained=True)\n",
    "        for param in list(self.model.parameters())[:-15]:\n",
    "            param.requires_grad = False\n",
    "        self.model.fc = nn.Linear(512, num_classes)\n",
    "    \n",
    "    def forward(self, x):\n",
    "        return self.model.forward(x)"
   ]
  },
  {
   "cell_type": "code",
   "execution_count": 30,
   "metadata": {},
   "outputs": [],
   "source": [
    "target_net_adv_obj_conv = TargetNetConv(len(CLASS_NAMES))\n",
    "target_params_to_update = [param for param in target_net_adv_obj_conv.parameters() if param.requires_grad]\n",
    "target_optim = torch.optim.Adam(target_params_to_update)\n",
    "target_criterion = nn.CrossEntropyLoss()"
   ]
  },
  {
   "cell_type": "code",
   "execution_count": 31,
   "metadata": {
    "collapsed": true
   },
   "outputs": [
    {
     "name": "stdout",
     "output_type": "stream",
     "text": [
      "Epoch 0/4\n",
      "----------\n",
      "train Loss: 3.4150 Acc: 0.3942\n",
      "val Loss: 4.6216 Acc: 0.1140\n",
      "\n",
      "Epoch 1/4\n",
      "----------\n",
      "train Loss: 2.5407 Acc: 0.5654\n",
      "val Loss: 4.7495 Acc: 0.1228\n",
      "\n",
      "Epoch 2/4\n",
      "----------\n",
      "train Loss: 2.1204 Acc: 0.6616\n",
      "val Loss: 4.7384 Acc: 0.1253\n",
      "\n",
      "Epoch 3/4\n",
      "----------\n",
      "train Loss: 1.8156 Acc: 0.7463\n",
      "val Loss: 4.7121 Acc: 0.1300\n",
      "\n",
      "Epoch 4/4\n",
      "----------\n"
     ]
    },
    {
     "name": "stderr",
     "output_type": "stream",
     "text": [
      "Traceback (most recent call last):\n",
      "  File \"/opt/anaconda3/lib/python3.7/multiprocessing/queues.py\", line 242, in _feed\n",
      "    send_bytes(obj)\n",
      "  File \"/opt/anaconda3/lib/python3.7/multiprocessing/connection.py\", line 200, in send_bytes\n",
      "    self._send_bytes(m[offset:offset + size])\n",
      "  File \"/opt/anaconda3/lib/python3.7/multiprocessing/connection.py\", line 404, in _send_bytes\n",
      "    self._send(header + buf)\n",
      "  File \"/opt/anaconda3/lib/python3.7/multiprocessing/connection.py\", line 368, in _send\n",
      "    n = write(self._handle, buf)\n",
      "BrokenPipeError: [Errno 32] Broken pipe\n",
      "Traceback (most recent call last):\n",
      "  File \"/opt/anaconda3/lib/python3.7/multiprocessing/queues.py\", line 242, in _feed\n",
      "    send_bytes(obj)\n",
      "  File \"/opt/anaconda3/lib/python3.7/multiprocessing/connection.py\", line 200, in send_bytes\n",
      "    self._send_bytes(m[offset:offset + size])\n",
      "  File \"/opt/anaconda3/lib/python3.7/multiprocessing/connection.py\", line 404, in _send_bytes\n",
      "    self._send(header + buf)\n",
      "  File \"/opt/anaconda3/lib/python3.7/multiprocessing/connection.py\", line 368, in _send\n",
      "    n = write(self._handle, buf)\n",
      "BrokenPipeError: [Errno 32] Broken pipe\n",
      "Traceback (most recent call last):\n",
      "  File \"/opt/anaconda3/lib/python3.7/multiprocessing/queues.py\", line 242, in _feed\n",
      "    send_bytes(obj)\n",
      "  File \"/opt/anaconda3/lib/python3.7/multiprocessing/connection.py\", line 200, in send_bytes\n",
      "    self._send_bytes(m[offset:offset + size])\n",
      "  File \"/opt/anaconda3/lib/python3.7/multiprocessing/connection.py\", line 404, in _send_bytes\n",
      "    self._send(header + buf)\n",
      "  File \"/opt/anaconda3/lib/python3.7/multiprocessing/connection.py\", line 368, in _send\n",
      "    n = write(self._handle, buf)\n",
      "BrokenPipeError: [Errno 32] Broken pipe\n"
     ]
    },
    {
     "ename": "KeyboardInterrupt",
     "evalue": "",
     "output_type": "error",
     "traceback": [
      "\u001b[0;31m---------------------------------------------------------------------------\u001b[0m",
      "\u001b[0;31mKeyboardInterrupt\u001b[0m                         Traceback (most recent call last)",
      "\u001b[0;32m<ipython-input-31-ad6f14d15599>\u001b[0m in \u001b[0;36m<module>\u001b[0;34m\u001b[0m\n\u001b[0;32m----> 1\u001b[0;31m \u001b[0mtarget_net_adv_obj_conv\u001b[0m\u001b[0;34m,\u001b[0m \u001b[0m_\u001b[0m \u001b[0;34m=\u001b[0m \u001b[0mtrain_model_adv_obj\u001b[0m\u001b[0;34m(\u001b[0m\u001b[0mtarget_net_adv_obj_conv\u001b[0m\u001b[0;34m,\u001b[0m \u001b[0mdataloaders\u001b[0m\u001b[0;34m,\u001b[0m \u001b[0mtarget_criterion\u001b[0m\u001b[0;34m,\u001b[0m \u001b[0mtarget_optim\u001b[0m\u001b[0;34m,\u001b[0m \u001b[0;34m'models/adv-target-adv-obj-conv.pt'\u001b[0m\u001b[0;34m,\u001b[0m \u001b[0mnum_epochs\u001b[0m\u001b[0;34m=\u001b[0m\u001b[0;36m5\u001b[0m\u001b[0;34m)\u001b[0m\u001b[0;34m\u001b[0m\u001b[0;34m\u001b[0m\u001b[0m\n\u001b[0m",
      "\u001b[0;32m<ipython-input-21-3cf3df18ffdc>\u001b[0m in \u001b[0;36mtrain_model_adv_obj\u001b[0;34m(model, dataloaders, criterion, optimizer, model_file, alpha, epsilon, num_epochs)\u001b[0m\n\u001b[1;32m     59\u001b[0m                     \u001b[0moptimizer\u001b[0m\u001b[0;34m.\u001b[0m\u001b[0mstep\u001b[0m\u001b[0;34m(\u001b[0m\u001b[0;34m)\u001b[0m\u001b[0;34m\u001b[0m\u001b[0;34m\u001b[0m\u001b[0m\n\u001b[1;32m     60\u001b[0m \u001b[0;34m\u001b[0m\u001b[0m\n\u001b[0;32m---> 61\u001b[0;31m                 \u001b[0mrunning_loss\u001b[0m \u001b[0;34m+=\u001b[0m \u001b[0mtotal_loss\u001b[0m\u001b[0;34m.\u001b[0m\u001b[0mitem\u001b[0m\u001b[0;34m(\u001b[0m\u001b[0;34m)\u001b[0m \u001b[0;34m*\u001b[0m \u001b[0minputs\u001b[0m\u001b[0;34m.\u001b[0m\u001b[0msize\u001b[0m\u001b[0;34m(\u001b[0m\u001b[0;36m0\u001b[0m\u001b[0;34m)\u001b[0m\u001b[0;34m\u001b[0m\u001b[0;34m\u001b[0m\u001b[0m\n\u001b[0m\u001b[1;32m     62\u001b[0m                 \u001b[0mrunning_corrects\u001b[0m \u001b[0;34m+=\u001b[0m \u001b[0mtorch\u001b[0m\u001b[0;34m.\u001b[0m\u001b[0msum\u001b[0m\u001b[0;34m(\u001b[0m\u001b[0mpreds\u001b[0m \u001b[0;34m==\u001b[0m \u001b[0mlabels\u001b[0m\u001b[0;34m.\u001b[0m\u001b[0mdata\u001b[0m\u001b[0;34m)\u001b[0m\u001b[0;34m\u001b[0m\u001b[0;34m\u001b[0m\u001b[0m\n\u001b[1;32m     63\u001b[0m \u001b[0;34m\u001b[0m\u001b[0m\n",
      "\u001b[0;31mKeyboardInterrupt\u001b[0m: "
     ]
    }
   ],
   "source": [
    "target_net_adv_obj_conv, _ = train_model_adv_obj(target_net_adv_obj_conv, dataloaders, target_criterion, target_optim, 'models/adv-target-adv-obj-conv.pt', num_epochs=5)"
   ]
  },
  {
   "cell_type": "code",
   "execution_count": null,
   "metadata": {
    "scrolled": true
   },
   "outputs": [],
   "source": [
    "acc_adv_obj_conv = []\n",
    "for eps in eps_vals:\n",
    "    acc_adv_obj_conv.append(test_attack(target_net_adv_obj_conv, source_net, dataloaders['val'], epsilon=eps))"
   ]
  },
  {
   "cell_type": "code",
   "execution_count": null,
   "metadata": {},
   "outputs": [],
   "source": [
    "import matplotlib.pyplot as plt\n",
    "\n",
    "plt.figure(figsize=(8, 6))\n",
    "plt.plot(eps_vals, np.array(acc_plain), label='Original')\n",
    "plt.plot(eps_vals, np.array(acc_adv_obj_conv), label='Modified objective function')\n",
    "plt.xlabel('epsilon')\n",
    "plt.ylabel('val accuracy')\n",
    "plt.legend()\n",
    "plt.show()"
   ]
  },
  {
   "cell_type": "markdown",
   "metadata": {},
   "source": [
    "### Adversarial Training\n",
    "We inject adversarial examples during training"
   ]
  },
  {
   "cell_type": "code",
   "execution_count": 10,
   "metadata": {},
   "outputs": [],
   "source": [
    "import torch.nn.functional as F\n",
    "import time\n",
    "import copy\n",
    "\n",
    "def train_model_adv_data(model, dataloaders, criterion, optimizer, model_file, lmbda=0.3, epsilon=0.2, num_epochs=10):\n",
    "    \"\"\"\n",
    "    Modified version of https://pytorch.org/tutorials/beginner/finetuning_torchvision_models_tutorial.html\n",
    "    \"\"\"\n",
    "    since = time.time()\n",
    "\n",
    "    device = torch.device(\"cuda:0\" if torch.cuda.is_available() else \"cpu\")\n",
    "    model = model.to(device)\n",
    "    \n",
    "    train_acc_history = []\n",
    "    train_loss_history = []\n",
    "    val_acc_history = []\n",
    "    val_loss_history = []\n",
    "\n",
    "    best_model_wts = copy.deepcopy(model.state_dict())\n",
    "    best_acc = 0.0\n",
    "    \n",
    "    for epoch in range(num_epochs):\n",
    "        print('Epoch {}/{}'.format(epoch, num_epochs - 1))\n",
    "        print('-' * 10)\n",
    "\n",
    "        for phase in ['train', 'val']:\n",
    "            if phase == 'train':\n",
    "                model.train()  # Set model to training mode\n",
    "            else:\n",
    "                model.eval()   # Set model to evaluate mode\n",
    "\n",
    "            running_loss = 0.0\n",
    "            running_corrects_plain = 0\n",
    "            running_corrects_adv = 0\n",
    "            running_corrects = 0\n",
    "            \n",
    "            for inputs, labels in dataloaders[phase]:\n",
    "                # Refer to the paper for notation\n",
    "                m = int(inputs.size(0))\n",
    "                k = int(inputs.size(0) * 0.5)\n",
    "    \n",
    "                inputs = inputs.to(device)\n",
    "                labels = labels.to(device)\n",
    "                inputs.requires_grad = True\n",
    "                \n",
    "                model.zero_grad()\n",
    "                \n",
    "                outputs_plain = model(inputs)\n",
    "                loss_plain = F.nll_loss(outputs_plain, labels)\n",
    "                loss_plain.backward()\n",
    "                \n",
    "                idx_adv = np.random.choice(np.arange(0, m), size=k, replace=False)\n",
    "                idx_plain = np.array([i for i in np.arange(0, m) if i not in idx_adv])\n",
    "                \n",
    "                # create adversarial examples\n",
    "                data_grad = inputs.grad.data\n",
    "                inputs_adv = fgsm(inputs[idx_adv], epsilon, data_grad[idx_adv])\n",
    "                optimizer.zero_grad()\n",
    "                # create a new minibatch\n",
    "                inputs_new = torch.empty(inputs.size())\n",
    "                inputs_new = inputs_new.to(device)\n",
    "                inputs_new[idx_plain] = inputs[idx_plain]\n",
    "                inputs_new[idx_adv] = inputs_adv\n",
    "            \n",
    "                outputs = model(inputs_new)\n",
    "                loss_plain = criterion(outputs[idx_plain], labels[idx_plain])\n",
    "                loss_adv = criterion(outputs[idx_adv], labels[idx_adv])\n",
    "                loss_total = (1 / (m - k + lmbda * k)) * (loss_plain * (m - k) + lmbda * loss_adv * k)\n",
    "                \n",
    "                _, preds = torch.max(outputs, 1)\n",
    "\n",
    "                if phase == 'train':\n",
    "                    loss_total.backward()\n",
    "                    optimizer.step()\n",
    "                    \n",
    "                running_loss += loss_total.item() * inputs.size(0)\n",
    "                running_corrects_plain += torch.sum(preds[idx_plain] == labels[idx_plain].data)\n",
    "                running_corrects_adv += torch.sum(preds[idx_adv] == labels[idx_adv].data)\n",
    "                \n",
    "                #torch.cuda.empty_cache()\n",
    "                #print(torch.cuda.memory_allocated())\n",
    "                #print(torch.cuda.memory_cached())\n",
    "                \n",
    "            epoch_loss = running_loss / len(dataloaders[phase].dataset)\n",
    "            epoch_acc_plain = running_corrects_plain.double() / (len(dataloaders[phase].dataset) * 0.5)\n",
    "            epoch_acc_adv = running_corrects_adv.double() / (len(dataloaders[phase].dataset) * 0.5)\n",
    "            epoch_acc = (epoch_acc_plain + epoch_acc_adv) / 2\n",
    "\n",
    "            print('{} Loss: {:.4f} Acc: {:.4f}'.format(phase, epoch_loss, epoch_acc))\n",
    "            print('Clean data accuracy: {:.4f}'.format(epoch_acc_plain))\n",
    "            print('Adversary data accuracy: {:.4f}'.format(epoch_acc_adv))\n",
    "\n",
    "            if phase == 'val' and epoch_acc > best_acc:\n",
    "                best_acc = epoch_acc\n",
    "                best_model_wts = copy.deepcopy(model.state_dict())\n",
    "                torch.save(model.state_dict(), model_file)\n",
    "            if phase == 'val':\n",
    "                val_acc_history.append(epoch_acc)\n",
    "                val_loss_history.append(epoch_loss)\n",
    "            else:\n",
    "                train_acc_history.append(epoch_acc)\n",
    "                train_loss_history.append(epoch_loss)\n",
    "\n",
    "        print()\n",
    "\n",
    "    time_elapsed = time.time() - since\n",
    "    print('Training complete in {:.0f}m {:.0f}s'.format(time_elapsed // 60, time_elapsed % 60))\n",
    "    print('Best val Acc: {:4f}'.format(best_acc))\n",
    "\n",
    "    # load and save best model weights\n",
    "    model.load_state_dict(best_model_wts)\n",
    "    torch.save(model.state_dict(), model_file)\n",
    "    \n",
    "    stats = (train_acc_history, train_loss_history, val_acc_history, val_loss_history)\n",
    "    return model, stats"
   ]
  },
  {
   "cell_type": "code",
   "execution_count": 13,
   "metadata": {},
   "outputs": [],
   "source": [
    "# target_net_adv_data = TargetNet(len(CLASS_NAMES))\n",
    "# target_params_to_update = [param for param in target_net_adv_data.parameters() if param.requires_grad]\n",
    "# target_optim = torch.optim.Adam(target_params_to_update)\n",
    "# target_criterion = nn.CrossEntropyLoss()"
   ]
  },
  {
   "cell_type": "code",
   "execution_count": 15,
   "metadata": {
    "collapsed": true
   },
   "outputs": [
    {
     "name": "stdout",
     "output_type": "stream",
     "text": [
      "Epoch 0/7\n",
      "----------\n",
      "train Loss: 3.0687 Acc: 0.3077\n",
      "Clean data accuracy: 0.5515\n",
      "Adversary data accuracy: 0.0639\n",
      "val Loss: 2.8822 Acc: 0.3225\n",
      "Clean data accuracy: 0.5664\n",
      "Adversary data accuracy: 0.0786\n",
      "\n",
      "Epoch 1/7\n",
      "----------\n",
      "train Loss: 3.0373 Acc: 0.3112\n",
      "Clean data accuracy: 0.5549\n",
      "Adversary data accuracy: 0.0676\n",
      "val Loss: 2.8873 Acc: 0.3211\n",
      "Clean data accuracy: 0.5580\n",
      "Adversary data accuracy: 0.0842\n",
      "\n",
      "Epoch 2/7\n",
      "----------\n",
      "train Loss: 3.0108 Acc: 0.3168\n",
      "Clean data accuracy: 0.5637\n",
      "Adversary data accuracy: 0.0699\n",
      "val Loss: 2.8556 Acc: 0.3244\n",
      "Clean data accuracy: 0.5622\n",
      "Adversary data accuracy: 0.0866\n",
      "\n",
      "Epoch 3/7\n",
      "----------\n",
      "train Loss: 2.9878 Acc: 0.3203\n",
      "Clean data accuracy: 0.5703\n",
      "Adversary data accuracy: 0.0703\n",
      "val Loss: 2.8144 Acc: 0.3283\n",
      "Clean data accuracy: 0.5680\n",
      "Adversary data accuracy: 0.0886\n",
      "\n",
      "Epoch 4/7\n",
      "----------\n",
      "train Loss: 2.9812 Acc: 0.3213\n",
      "Clean data accuracy: 0.5701\n",
      "Adversary data accuracy: 0.0724\n",
      "val Loss: 2.8592 Acc: 0.3273\n",
      "Clean data accuracy: 0.5664\n",
      "Adversary data accuracy: 0.0882\n",
      "\n",
      "Epoch 5/7\n",
      "----------\n",
      "train Loss: 2.9642 Acc: 0.3236\n",
      "Clean data accuracy: 0.5747\n",
      "Adversary data accuracy: 0.0724\n",
      "val Loss: 2.8231 Acc: 0.3276\n",
      "Clean data accuracy: 0.5588\n",
      "Adversary data accuracy: 0.0964\n",
      "\n",
      "Epoch 6/7\n",
      "----------\n",
      "train Loss: 2.9613 Acc: 0.3247\n",
      "Clean data accuracy: 0.5749\n",
      "Adversary data accuracy: 0.0745\n",
      "val Loss: 2.7850 Acc: 0.3339\n",
      "Clean data accuracy: 0.5728\n",
      "Adversary data accuracy: 0.0950\n",
      "\n",
      "Epoch 7/7\n",
      "----------\n",
      "train Loss: 2.9466 Acc: 0.3266\n",
      "Clean data accuracy: 0.5787\n",
      "Adversary data accuracy: 0.0744\n",
      "val Loss: 2.7800 Acc: 0.3369\n",
      "Clean data accuracy: 0.5750\n",
      "Adversary data accuracy: 0.0988\n",
      "\n",
      "Training complete in 155m 5s\n",
      "Best val Acc: 0.336900\n"
     ]
    }
   ],
   "source": [
    "# target_net_adv_data, _ = train_model_adv_data(target_net_adv_data, dataloaders, target_criterion, target_optim, 'models/adv-target-adv-data.pt', lmbda=0.5, num_epochs=8)"
   ]
  },
  {
   "cell_type": "code",
   "execution_count": 22,
   "metadata": {},
   "outputs": [
    {
     "data": {
      "text/plain": [
       "<All keys matched successfully>"
      ]
     },
     "execution_count": 22,
     "metadata": {},
     "output_type": "execute_result"
    }
   ],
   "source": [
    "target_net_adv_data = TargetNet(len(CLASS_NAMES))\n",
    "target_net_adv_data.load_state_dict(torch.load('models/adv-target-adv-data.pt'))"
   ]
  },
  {
   "cell_type": "code",
   "execution_count": 23,
   "metadata": {},
   "outputs": [],
   "source": [
    "acc_adv_data = []\n",
    "for eps in eps_vals:\n",
    "    acc_adv_data.append(test_attack(target_net_adv_data, source_net, dataloaders['val'], epsilon=eps))"
   ]
  },
  {
   "cell_type": "code",
   "execution_count": 29,
   "metadata": {},
   "outputs": [
    {
     "data": {
      "image/png": "[encoded data removed]",
      "text/plain": [
       "<Figure size 576x432 with 1 Axes>"
      ]
     },
     "metadata": {
      "needs_background": "light"
     },
     "output_type": "display_data"
    }
   ],
   "source": [
    "plt.figure(figsize=(8, 6))\n",
    "plt.plot(eps_vals, np.array(acc_plain), label='Original')\n",
    "plt.plot(eps_vals, np.array(acc_adv_data), label='Training with adversarial data')\n",
    "plt.xlabel('epsilon')\n",
    "plt.ylabel('val accuracy')\n",
    "plt.legend()\n",
    "plt.show()"
   ]
  },
  {
   "cell_type": "code",
   "execution_count": 30,
   "metadata": {},
   "outputs": [
    {
     "data": {
      "image/png": "[encoded data removed]",
      "text/plain": [
       "<Figure size 576x432 with 1 Axes>"
      ]
     },
     "metadata": {
      "needs_background": "light"
     },
     "output_type": "display_data"
    }
   ],
   "source": [
    "plt.figure(figsize=(8, 6))\n",
    "plt.plot(eps_vals, np.array(acc_adv_data, dtype=np.float32) - np.array(acc_plain, dtype=np.float32))\n",
    "plt.xlabel('epsilon')\n",
    "plt.ylabel('change in val accuracy')\n",
    "plt.show()"
   ]
  },
  {
   "cell_type": "markdown",
   "metadata": {},
   "source": [
    "This training method has a smaller decrease in accuracy on clean data while achieving the same accuracy on adversarial examples."
   ]
  },
  {
   "cell_type": "markdown",
   "metadata": {},
   "source": [
    "#### Reference:\n",
    "https://pytorch.org/tutorials/beginner/fgsm_tutorial.html"
   ]
  }
 ],
 "metadata": {
  "colab": {
   "collapsed_sections": [],
   "name": "Starter.ipynb",
   "provenance": []
  },
  "kernelspec": {
   "display_name": "Python 3",
   "language": "python",
   "name": "python3"
  },
  "language_info": {
   "codemirror_mode": {
    "name": "ipython",
    "version": 3
   },
   "file_extension": ".py",
   "mimetype": "text/x-python",
   "name": "python",
   "nbconvert_exporter": "python",
   "pygments_lexer": "ipython3",
   "version": "3.7.4"
  }
 },
 "nbformat": 4,
 "nbformat_minor": 1
}
